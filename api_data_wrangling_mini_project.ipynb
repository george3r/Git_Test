{
 "cells": [
  {
   "cell_type": "markdown",
   "metadata": {},
   "source": [
    "This exercise will require you to pull some data from the Qunadl API. Qaundl is currently the most widely used aggregator of financial market data."
   ]
  },
  {
   "cell_type": "markdown",
   "metadata": {},
   "source": [
    "As a first step, you will need to register a free account on the http://www.quandl.com website."
   ]
  },
  {
   "cell_type": "markdown",
   "metadata": {},
   "source": [
    "After you register, you will be provided with a unique API key, that you should store:"
   ]
  },
  {
   "cell_type": "code",
   "execution_count": 1,
   "metadata": {},
   "outputs": [],
   "source": [
    "# Store the API key as a string - according to PEP8, constants are always named in all upper case\n",
    "API_KEY = 'a9tYDquGVZBx9GdXtrKM'"
   ]
  },
  {
   "cell_type": "markdown",
   "metadata": {},
   "source": [
    "Qaundl has a large number of data sources, but, unfortunately, most of them require a Premium subscription. Still, there are also a good number of free datasets."
   ]
  },
  {
   "cell_type": "markdown",
   "metadata": {},
   "source": [
    "For this mini project, we will focus on equities data from the Frankfurt Stock Exhange (FSE), which is available for free. We'll try and analyze the stock prices of a company called Carl Zeiss Meditec, which manufactures tools for eye examinations, as well as medical lasers for laser eye surgery: https://www.zeiss.com/meditec/int/home.html. The company is listed under the stock ticker AFX_X."
   ]
  },
  {
   "cell_type": "markdown",
   "metadata": {},
   "source": [
    "You can find the detailed Quandl API instructions here: https://docs.quandl.com/docs/time-series"
   ]
  },
  {
   "cell_type": "markdown",
   "metadata": {},
   "source": [
    "While there is a dedicated Python package for connecting to the Quandl API, we would prefer that you use the *requests* package, which can be easily downloaded using *pip* or *conda*. You can find the documentation for the package here: http://docs.python-requests.org/en/master/ "
   ]
  },
  {
   "cell_type": "markdown",
   "metadata": {},
   "source": [
    "Finally, apart from the *requests* package, you are encouraged to not use any third party Python packages, such as *pandas*, and instead focus on what's available in the Python Standard Library (the *collections* module might come in handy: https://pymotw.com/3/collections/ ).\n",
    "Also, since you won't have access to DataFrames, you are encouraged to us Python's native data structures - preferably dictionaries, though some questions can also be answered using lists.\n",
    "You can read more on these data structures here: https://docs.python.org/3/tutorial/datastructures.html"
   ]
  },
  {
   "cell_type": "markdown",
   "metadata": {},
   "source": [
    "Keep in mind that the JSON responses you will be getting from the API map almost one-to-one to Python's dictionaries. Unfortunately, they can be very nested, so make sure you read up on indexing dictionaries in the documentation provided above."
   ]
  },
  {
   "cell_type": "code",
   "execution_count": 2,
   "metadata": {},
   "outputs": [],
   "source": [
    "# First, import the relevant modules\n",
    "import requests\n",
    "#import JSON\n"
   ]
  },
  {
   "cell_type": "code",
   "execution_count": 3,
   "metadata": {},
   "outputs": [
    {
     "name": "stdout",
     "output_type": "stream",
     "text": [
      "dataset_data : {'limit': 1, 'transform': None, 'column_index': None, 'column_names': ['Date', 'Open', 'High', 'Low', 'Close', 'Change', 'Traded Volume', 'Turnover', 'Last Price of the Day', 'Daily Traded Units', 'Daily Turnover'], 'start_date': '2000-06-07', 'end_date': '2020-12-01', 'frequency': 'daily', 'data': [['2020-12-01', 112.2, 112.2, 111.5, 112.0, None, 51.0, 5703.0, None, None, None]], 'collapse': None, 'order': None}\n"
     ]
    }
   ],
   "source": [
    "# Now, call the Quandl API and pull out a small sample of the data (only one day) to get a glimpse\n",
    "# into the JSON structure that will be returned\n",
    "\n",
    "# CREATE THE URL TO FETCH WITH limit=1 TO DISPLAY ONLY ONE ROW\n",
    "url = \"https://www.quandl.com/api/v3/datasets/FSE/AFX_X/data.json?limit=1&api_key=\"+API_KEY\n",
    "# GET THE URL\n",
    "r = requests.get(url)\n",
    "# CONVERT IT TO A DICTIONARY\n",
    "json_data = r.json()\n",
    "\n",
    "# PRINT THE ROW FETCHED\n",
    "for key,value in json_data.items():\n",
    "    print(key,':',value)"
   ]
  },
  {
   "cell_type": "code",
   "execution_count": 4,
   "metadata": {},
   "outputs": [],
   "source": [
    "# Inspect the JSON structure of the object you created, and take note of how nested it is,\n",
    "# as well as the overall structure\n",
    "\n",
    "# DICTIONARY WITH SOME NESTED DICTIONARIES IN IT"
   ]
  },
  {
   "cell_type": "markdown",
   "metadata": {},
   "source": [
    "These are your tasks for this mini project:\n",
    "\n",
    "1. Collect data from the Franfurt Stock Exchange, for the ticker AFX_X, for the whole year 2017 (keep in mind that the date format is YYYY-MM-DD).\n",
    "2. Convert the returned JSON object into a Python dictionary.\n",
    "3. Calculate what the highest and lowest opening prices were for the stock in this period.\n",
    "4. What was the largest change in any one day (based on High and Low price)?\n",
    "5. What was the largest change between any two days (based on Closing Price)?\n",
    "6. What was the average daily trading volume during this year?\n",
    "7. (Optional) What was the median trading volume during this year. (Note: you may need to implement your own function for calculating the median.)"
   ]
  },
  {
   "cell_type": "code",
   "execution_count": 5,
   "metadata": {},
   "outputs": [],
   "source": [
    "# 1. Collect data from the Franfurt Stock Exchange, for the ticker AFX_X, for the whole year 2017\n",
    "\n",
    "# CREATE THE URL TO FETCH\n",
    "url_2017 =  \"https://www.quandl.com/api/v3/datasets/FSE/AFX_X/data.json?start_date=2017-01-01&end_date=2017-12-31&api_key=\"+API_KEY\n",
    "# GET THE URL\n",
    "r_2017 = requests.get(url_2017)\n",
    "\n",
    "# 2. Convert the returned JSON object into a Python dictionary.\n",
    "json_data_2017 = r_2017.json()"
   ]
  },
  {
   "cell_type": "code",
   "execution_count": 6,
   "metadata": {},
   "outputs": [],
   "source": [
    "# 3. Calculate what the highest and lowest opening prices were for the stock in this period."
   ]
  },
  {
   "cell_type": "code",
   "execution_count": 7,
   "metadata": {},
   "outputs": [],
   "source": [
    "import operator\n",
    "\n",
    "# CONVERT STRING INPUT TO OPERATOR\n",
    "ops = {'>': operator.gt,\n",
    "       '<': operator.lt,\n",
    "       '>=': operator.ge,\n",
    "       '<=': operator.le,\n",
    "       '=': operator.eq,\n",
    "      }"
   ]
  },
  {
   "cell_type": "code",
   "execution_count": 8,
   "metadata": {},
   "outputs": [],
   "source": [
    "# CREATE A LOOKUP FUNCTION\n",
    "def lookup_comparison(ops, initial_comparison_value,relate,column_index):\n",
    "    # CONVERT STRING INPUT TO OPERATOR\n",
    "    ops = {'>': operator.gt,\n",
    "           '<': operator.lt,\n",
    "           '>=': operator.ge,\n",
    "           '<=': operator.le,\n",
    "           '=': operator.eq,\n",
    "          }\n",
    "    # FOR EACH ITEM IN THE NESTED DICTIONARY 'data'\n",
    "    for data_row in json_data_2017['dataset_data']['data']:\n",
    "        if ops[relate](data_row[column_index], initial_comparison_value):\n",
    "            initial_comparison_value = data_row[column_index]\n",
    "            data = data_row\n",
    "\n",
    "    # PRINT RETURNED DATA ROW\n",
    "    for c,column in enumerate(json_data_2017['dataset_data']['column_names']):\n",
    "        print(f\"{column}: {data[c]}\")\n",
    "\n",
    "\n",
    "            \n",
    "    "
   ]
  },
  {
   "cell_type": "code",
   "execution_count": 9,
   "metadata": {},
   "outputs": [
    {
     "name": "stdout",
     "output_type": "stream",
     "text": [
      "Date: 2017-12-14\n",
      "Open: 53.11\n",
      "High: 53.54\n",
      "Low: 52.15\n",
      "Close: 52.67\n",
      "Change: None\n",
      "Traded Volume: 132981.0\n",
      "Turnover: 7016953.0\n",
      "Last Price of the Day: None\n",
      "Daily Traded Units: None\n",
      "Daily Turnover: None\n"
     ]
    }
   ],
   "source": [
    "day_high = lookup_comparison(ops = ops,initial_comparison_value=0,relate='>',column_index=2)"
   ]
  },
  {
   "cell_type": "code",
   "execution_count": 10,
   "metadata": {},
   "outputs": [
    {
     "name": "stdout",
     "output_type": "stream",
     "text": [
      "Date: 2017-01-23\n",
      "Open: 34.04\n",
      "High: 34.12\n",
      "Low: 33.62\n",
      "Close: 34.06\n",
      "Change: None\n",
      "Traded Volume: 55333.0\n",
      "Turnover: 1877957.0\n",
      "Last Price of the Day: None\n",
      "Daily Traded Units: None\n",
      "Daily Turnover: None\n"
     ]
    }
   ],
   "source": [
    "day_low = lookup_comparison(ops = ops,initial_comparison_value=100,relate='<',column_index=3)"
   ]
  },
  {
   "cell_type": "code",
   "execution_count": 11,
   "metadata": {},
   "outputs": [],
   "source": [
    "# 4. What was the largest change in any one day (based on High and Low price)?"
   ]
  },
  {
   "cell_type": "code",
   "execution_count": 12,
   "metadata": {},
   "outputs": [],
   "source": [
    "# FUNCTION TO COMPARE TWO VALUES IN THE SAME NESTED DICTIONARY\n",
    "def lookup_comparison_difference(initial_comparison_value,relate,column_index1,column_index2):\n",
    "\n",
    "    for data_row in json_data_2017['dataset_data']['data']:\n",
    "        difference = data_row[column_index1] - data_row[column_index2]\n",
    "        if ops[relate](difference, initial_comparison_value):\n",
    "            initial_comparison_value = difference\n",
    "            data = data_row\n",
    "            \n",
    "    # PRINT RETURNED DATA ROW\n",
    "    for c,column in enumerate(json_data_2017['dataset_data']['column_names']):\n",
    "        print(f\"{column}: {data[c]}\")\n",
    "    print(f\"\\n{json_data_2017['dataset_data']['column_names'][column_index1]} - {json_data_2017['dataset_data']['column_names'][column_index2]}: {round(initial_comparison_value,2)}\")"
   ]
  },
  {
   "cell_type": "code",
   "execution_count": 13,
   "metadata": {},
   "outputs": [
    {
     "name": "stdout",
     "output_type": "stream",
     "text": [
      "Date: 2017-05-11\n",
      "Open: 43.4\n",
      "High: 46.06\n",
      "Low: 43.25\n",
      "Close: 45.0\n",
      "Change: None\n",
      "Traded Volume: 189125.0\n",
      "Turnover: 8496322.0\n",
      "Last Price of the Day: None\n",
      "Daily Traded Units: None\n",
      "Daily Turnover: None\n",
      "\n",
      "High - Low: 2.81\n"
     ]
    }
   ],
   "source": [
    "high_day_range = lookup_comparison_difference(initial_comparison_value=0,relate = '>',column_index1=2,column_index2=3)"
   ]
  },
  {
   "cell_type": "code",
   "execution_count": 14,
   "metadata": {},
   "outputs": [],
   "source": [
    "# 5. What was the largest change between any two days (based on Closing Price)?"
   ]
  },
  {
   "cell_type": "code",
   "execution_count": 15,
   "metadata": {},
   "outputs": [],
   "source": [
    "# FUNCTION TO COMPARE DIFFERENT ROWS OF DATA WITHIN THE SAME NESTED DICTIONARY\n",
    "def lookup_day_diff(ops, initial_comparison_value,relate,column_index,day_range=0):\n",
    "    \n",
    "    for c,data_row in enumerate(json_data_2017['dataset_data']['data']):\n",
    "        cur = data_row[column_index]\n",
    "        comp_day_index = int(max((c-day_range),0))\n",
    "        #print(comp_day_index)\n",
    "        #print(json_data_2017['dataset_data']['data'][(comp_day_index)])\n",
    "\n",
    "        comp_day = json_data_2017['dataset_data']['data'][comp_day_index][column_index]\n",
    "        day_diff = cur - comp_day\n",
    "\n",
    "        if ops[relate](day_diff, initial_comparison_value):\n",
    "            initial_comparison_value = day_diff\n",
    "\n",
    "    print(f\"Largest change between any two days: {round(initial_comparison_value,2)}\")\n"
   ]
  },
  {
   "cell_type": "code",
   "execution_count": 16,
   "metadata": {},
   "outputs": [
    {
     "name": "stdout",
     "output_type": "stream",
     "text": [
      "Largest change between any two days: 3.15\n"
     ]
    }
   ],
   "source": [
    "lookup_day_diff(ops = ops, initial_comparison_value = 0,relate='>',column_index=4,day_range=2)"
   ]
  },
  {
   "cell_type": "code",
   "execution_count": 17,
   "metadata": {},
   "outputs": [],
   "source": [
    "# 6. What was the average daily trading volume during this year?"
   ]
  },
  {
   "cell_type": "code",
   "execution_count": 18,
   "metadata": {},
   "outputs": [],
   "source": [
    "# FUNCTION TO CALCULATE THE AVERAGE OF A COLUMN\n",
    "def average_lookup(column_index):\n",
    "    total = 0\n",
    "    for data_row in json_data_2017['dataset_data']['data']:\n",
    "        total += (data_row[column_index])\n",
    "    return round(total/len(json_data_2017['dataset_data']['data']))"
   ]
  },
  {
   "cell_type": "code",
   "execution_count": 19,
   "metadata": {},
   "outputs": [
    {
     "name": "stdout",
     "output_type": "stream",
     "text": [
      "Average volume traded per day: 89124\n"
     ]
    }
   ],
   "source": [
    "print(f\"Average volume traded per day: {average_lookup(6)}\")"
   ]
  },
  {
   "cell_type": "code",
   "execution_count": null,
   "metadata": {},
   "outputs": [],
   "source": []
  }
 ],
 "metadata": {
  "kernelspec": {
   "display_name": "Python 3",
   "language": "python",
   "name": "python3"
  },
  "language_info": {
   "codemirror_mode": {
    "name": "ipython",
    "version": 3
   },
   "file_extension": ".py",
   "mimetype": "text/x-python",
   "name": "python",
   "nbconvert_exporter": "python",
   "pygments_lexer": "ipython3",
   "version": "3.7.6"
  }
 },
 "nbformat": 4,
 "nbformat_minor": 2
}
